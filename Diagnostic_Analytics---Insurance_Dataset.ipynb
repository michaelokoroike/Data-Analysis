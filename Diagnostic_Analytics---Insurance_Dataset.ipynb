{
 "cells": [
  {
   "cell_type": "code",
   "execution_count": 1,
   "id": "11925cfe",
   "metadata": {},
   "outputs": [],
   "source": [
    "import pandas as pd\n",
    "import numpy as np"
   ]
  },
  {
   "cell_type": "code",
   "execution_count": 3,
   "id": "f8b89bac",
   "metadata": {},
   "outputs": [],
   "source": [
    "data = pd.read_csv(r'C:\\Users\\Acer\\Downloads\\insurance.csv')\n",
    "df = pd.DataFrame(data)"
   ]
  },
  {
   "cell_type": "code",
   "execution_count": 4,
   "id": "2d3fa642",
   "metadata": {},
   "outputs": [
    {
     "data": {
      "text/html": [
       "<div>\n",
       "<style scoped>\n",
       "    .dataframe tbody tr th:only-of-type {\n",
       "        vertical-align: middle;\n",
       "    }\n",
       "\n",
       "    .dataframe tbody tr th {\n",
       "        vertical-align: top;\n",
       "    }\n",
       "\n",
       "    .dataframe thead th {\n",
       "        text-align: right;\n",
       "    }\n",
       "</style>\n",
       "<table border=\"1\" class=\"dataframe\">\n",
       "  <thead>\n",
       "    <tr style=\"text-align: right;\">\n",
       "      <th></th>\n",
       "      <th>age</th>\n",
       "      <th>sex</th>\n",
       "      <th>bmi</th>\n",
       "      <th>children</th>\n",
       "      <th>smoker</th>\n",
       "      <th>region</th>\n",
       "      <th>charges</th>\n",
       "    </tr>\n",
       "  </thead>\n",
       "  <tbody>\n",
       "    <tr>\n",
       "      <th>0</th>\n",
       "      <td>19</td>\n",
       "      <td>female</td>\n",
       "      <td>27.900</td>\n",
       "      <td>0</td>\n",
       "      <td>yes</td>\n",
       "      <td>southwest</td>\n",
       "      <td>16884.92400</td>\n",
       "    </tr>\n",
       "    <tr>\n",
       "      <th>1</th>\n",
       "      <td>18</td>\n",
       "      <td>male</td>\n",
       "      <td>33.770</td>\n",
       "      <td>1</td>\n",
       "      <td>no</td>\n",
       "      <td>southeast</td>\n",
       "      <td>1725.55230</td>\n",
       "    </tr>\n",
       "    <tr>\n",
       "      <th>2</th>\n",
       "      <td>28</td>\n",
       "      <td>male</td>\n",
       "      <td>33.000</td>\n",
       "      <td>3</td>\n",
       "      <td>no</td>\n",
       "      <td>southeast</td>\n",
       "      <td>4449.46200</td>\n",
       "    </tr>\n",
       "    <tr>\n",
       "      <th>3</th>\n",
       "      <td>33</td>\n",
       "      <td>male</td>\n",
       "      <td>22.705</td>\n",
       "      <td>0</td>\n",
       "      <td>no</td>\n",
       "      <td>northwest</td>\n",
       "      <td>21984.47061</td>\n",
       "    </tr>\n",
       "    <tr>\n",
       "      <th>4</th>\n",
       "      <td>32</td>\n",
       "      <td>male</td>\n",
       "      <td>28.880</td>\n",
       "      <td>0</td>\n",
       "      <td>no</td>\n",
       "      <td>northwest</td>\n",
       "      <td>3866.85520</td>\n",
       "    </tr>\n",
       "  </tbody>\n",
       "</table>\n",
       "</div>"
      ],
      "text/plain": [
       "   age     sex     bmi  children smoker     region      charges\n",
       "0   19  female  27.900         0    yes  southwest  16884.92400\n",
       "1   18    male  33.770         1     no  southeast   1725.55230\n",
       "2   28    male  33.000         3     no  southeast   4449.46200\n",
       "3   33    male  22.705         0     no  northwest  21984.47061\n",
       "4   32    male  28.880         0     no  northwest   3866.85520"
      ]
     },
     "execution_count": 4,
     "metadata": {},
     "output_type": "execute_result"
    }
   ],
   "source": [
    "df.head()"
   ]
  },
  {
   "cell_type": "code",
   "execution_count": 5,
   "id": "06a46694",
   "metadata": {},
   "outputs": [
    {
     "data": {
      "text/plain": [
       "(1338, 7)"
      ]
     },
     "execution_count": 5,
     "metadata": {},
     "output_type": "execute_result"
    }
   ],
   "source": [
    "df.shape"
   ]
  },
  {
   "cell_type": "code",
   "execution_count": 6,
   "id": "5509f07a",
   "metadata": {},
   "outputs": [
    {
     "data": {
      "text/plain": [
       "age           int64\n",
       "sex          object\n",
       "bmi         float64\n",
       "children      int64\n",
       "smoker       object\n",
       "region       object\n",
       "charges     float64\n",
       "dtype: object"
      ]
     },
     "execution_count": 6,
     "metadata": {},
     "output_type": "execute_result"
    }
   ],
   "source": [
    "df.dtypes"
   ]
  },
  {
   "cell_type": "code",
   "execution_count": 8,
   "id": "6a702a49",
   "metadata": {},
   "outputs": [
    {
     "data": {
      "text/html": [
       "<div>\n",
       "<style scoped>\n",
       "    .dataframe tbody tr th:only-of-type {\n",
       "        vertical-align: middle;\n",
       "    }\n",
       "\n",
       "    .dataframe tbody tr th {\n",
       "        vertical-align: top;\n",
       "    }\n",
       "\n",
       "    .dataframe thead th {\n",
       "        text-align: right;\n",
       "    }\n",
       "</style>\n",
       "<table border=\"1\" class=\"dataframe\">\n",
       "  <thead>\n",
       "    <tr style=\"text-align: right;\">\n",
       "      <th></th>\n",
       "      <th>age</th>\n",
       "      <th>bmi</th>\n",
       "      <th>children</th>\n",
       "      <th>charges</th>\n",
       "    </tr>\n",
       "  </thead>\n",
       "  <tbody>\n",
       "    <tr>\n",
       "      <th>count</th>\n",
       "      <td>1338.000000</td>\n",
       "      <td>1338.000000</td>\n",
       "      <td>1338.000000</td>\n",
       "      <td>1338.000000</td>\n",
       "    </tr>\n",
       "    <tr>\n",
       "      <th>mean</th>\n",
       "      <td>39.207025</td>\n",
       "      <td>30.663397</td>\n",
       "      <td>1.094918</td>\n",
       "      <td>13270.422265</td>\n",
       "    </tr>\n",
       "    <tr>\n",
       "      <th>std</th>\n",
       "      <td>14.049960</td>\n",
       "      <td>6.098187</td>\n",
       "      <td>1.205493</td>\n",
       "      <td>12110.011237</td>\n",
       "    </tr>\n",
       "    <tr>\n",
       "      <th>min</th>\n",
       "      <td>18.000000</td>\n",
       "      <td>15.960000</td>\n",
       "      <td>0.000000</td>\n",
       "      <td>1121.873900</td>\n",
       "    </tr>\n",
       "    <tr>\n",
       "      <th>25%</th>\n",
       "      <td>27.000000</td>\n",
       "      <td>26.296250</td>\n",
       "      <td>0.000000</td>\n",
       "      <td>4740.287150</td>\n",
       "    </tr>\n",
       "    <tr>\n",
       "      <th>50%</th>\n",
       "      <td>39.000000</td>\n",
       "      <td>30.400000</td>\n",
       "      <td>1.000000</td>\n",
       "      <td>9382.033000</td>\n",
       "    </tr>\n",
       "    <tr>\n",
       "      <th>75%</th>\n",
       "      <td>51.000000</td>\n",
       "      <td>34.693750</td>\n",
       "      <td>2.000000</td>\n",
       "      <td>16639.912515</td>\n",
       "    </tr>\n",
       "    <tr>\n",
       "      <th>max</th>\n",
       "      <td>64.000000</td>\n",
       "      <td>53.130000</td>\n",
       "      <td>5.000000</td>\n",
       "      <td>63770.428010</td>\n",
       "    </tr>\n",
       "  </tbody>\n",
       "</table>\n",
       "</div>"
      ],
      "text/plain": [
       "               age          bmi     children       charges\n",
       "count  1338.000000  1338.000000  1338.000000   1338.000000\n",
       "mean     39.207025    30.663397     1.094918  13270.422265\n",
       "std      14.049960     6.098187     1.205493  12110.011237\n",
       "min      18.000000    15.960000     0.000000   1121.873900\n",
       "25%      27.000000    26.296250     0.000000   4740.287150\n",
       "50%      39.000000    30.400000     1.000000   9382.033000\n",
       "75%      51.000000    34.693750     2.000000  16639.912515\n",
       "max      64.000000    53.130000     5.000000  63770.428010"
      ]
     },
     "execution_count": 8,
     "metadata": {},
     "output_type": "execute_result"
    }
   ],
   "source": [
    "df.describe()"
   ]
  },
  {
   "cell_type": "markdown",
   "id": "b6726f8f",
   "metadata": {},
   "source": [
    "* Age of subjects range from 18 to 64.\n",
    "\n",
    "\n",
    "* BMI ranges from 16 to 53, 16 being underweight and 53 being well into obesity.\n",
    "\n",
    "\n",
    "* Some subjects have no children, some have as many as five children.\n",
    "\n",
    "\n",
    "* Overall charges for individual medical costs billed by health insurance range from 1,100 for some, to almost 64,000 for others."
   ]
  },
  {
   "cell_type": "markdown",
   "id": "bcd8c6e1",
   "metadata": {},
   "source": [
    "## Exploratory Data Analysis"
   ]
  },
  {
   "cell_type": "markdown",
   "id": "bfd5807b",
   "metadata": {},
   "source": [
    "- How many females, versus males?\n",
    "\n",
    "\n",
    "- How many smokers, versus non-smokers?\n",
    "\n",
    "\n",
    "- Are there a material amount of outliers in any of the variables?\n",
    "\n",
    "\n",
    "- Anything else?\n"
   ]
  },
  {
   "cell_type": "markdown",
   "id": "64b92324",
   "metadata": {},
   "source": [
    "#### A. How many females, versus males?"
   ]
  },
  {
   "cell_type": "code",
   "execution_count": 10,
   "id": "b6f1eb4d",
   "metadata": {},
   "outputs": [
    {
     "data": {
      "image/png": "[encoded data removed]",
      "text/plain": [
       "<Figure size 432x288 with 1 Axes>"
      ]
     },
     "metadata": {
      "needs_background": "light"
     },
     "output_type": "display_data"
    }
   ],
   "source": [
    "import matplotlib.pyplot as plt\n",
    "\n",
    "plt.hist(df['sex'])\n",
    "\n",
    "plt.show()"
   ]
  },
  {
   "cell_type": "code",
   "execution_count": 12,
   "id": "a4f850df",
   "metadata": {},
   "outputs": [
    {
     "name": "stdout",
     "output_type": "stream",
     "text": [
      "female  count in  sex  column =  662\n",
      "male  count in  sex  column =  676\n"
     ]
    }
   ],
   "source": [
    "def count(dataframe, col_name, value):\n",
    "    count = 0\n",
    "    for i in range(dataframe.shape[0]):\n",
    "        if df.iloc[i][col_name] == value:\n",
    "            count += 1\n",
    "        else:\n",
    "            continue\n",
    "    print(value, \" count in \", col_name, \" column = \", count)\n",
    "\n",
    "count(df, 'sex', 'female')\n",
    "count(df, 'sex', 'male')"
   ]
  },
  {
   "cell_type": "markdown",
   "id": "253b3553",
   "metadata": {},
   "source": [
    "* The dataset is definitely balanced in relation to gender; 662 females, 676 males. \n"
   ]
  },
  {
   "cell_type": "markdown",
   "id": "bc868138",
   "metadata": {},
   "source": [
    "#### B. How many smokers, versus non-smokers?"
   ]
  },
  {
   "cell_type": "code",
   "execution_count": 13,
   "id": "2d02feb2",
   "metadata": {},
   "outputs": [
    {
     "data": {
      "image/png": "[encoded data removed]",
      "text/plain": [
       "<Figure size 432x288 with 1 Axes>"
      ]
     },
     "metadata": {
      "needs_background": "light"
     },
     "output_type": "display_data"
    }
   ],
   "source": [
    "plt.hist(df['smoker'])\n",
    "\n",
    "plt.show()"
   ]
  },
  {
   "cell_type": "markdown",
   "id": "2afd50c4",
   "metadata": {},
   "source": [
    "* Overwhelmingly, the dataset is non-smokers."
   ]
  },
  {
   "cell_type": "markdown",
   "id": "4fe80b15",
   "metadata": {},
   "source": [
    "#### C. What regions are most of the subjects in?"
   ]
  },
  {
   "cell_type": "code",
   "execution_count": 18,
   "id": "e1971a4c",
   "metadata": {},
   "outputs": [
    {
     "data": {
      "image/png": "[encoded data removed]",
      "text/plain": [
       "<Figure size 432x288 with 1 Axes>"
      ]
     },
     "metadata": {
      "needs_background": "light"
     },
     "output_type": "display_data"
    }
   ],
   "source": [
    "plt.hist(df['region'])\n",
    "\n",
    "plt.show()"
   ]
  },
  {
   "cell_type": "markdown",
   "id": "0367d31f",
   "metadata": {},
   "source": [
    "* Again, pretty evenly distributed in relation to region."
   ]
  },
  {
   "cell_type": "markdown",
   "id": "415128d1",
   "metadata": {},
   "source": [
    "#### D. Are there any outliers in any columns?"
   ]
  },
  {
   "cell_type": "code",
   "execution_count": 14,
   "id": "5eb2598f",
   "metadata": {},
   "outputs": [
    {
     "data": {
      "image/png": "[encoded data removed]",
      "text/plain": [
       "<Figure size 432x288 with 1 Axes>"
      ]
     },
     "metadata": {
      "needs_background": "light"
     },
     "output_type": "display_data"
    }
   ],
   "source": [
    "# Creating plot\n",
    "plt.boxplot(df['age'])\n",
    "\n",
    "plt.show()"
   ]
  },
  {
   "cell_type": "code",
   "execution_count": 15,
   "id": "53005faf",
   "metadata": {},
   "outputs": [
    {
     "data": {
      "image/png": "[encoded data removed]",
      "text/plain": [
       "<Figure size 432x288 with 1 Axes>"
      ]
     },
     "metadata": {
      "needs_background": "light"
     },
     "output_type": "display_data"
    }
   ],
   "source": [
    "# Creating plot\n",
    "plt.boxplot(df['bmi'])\n",
    "\n",
    "plt.show()"
   ]
  },
  {
   "cell_type": "code",
   "execution_count": 16,
   "id": "40172bcd",
   "metadata": {},
   "outputs": [
    {
     "data": {
      "image/png": "[encoded data removed]",
      "text/plain": [
       "<Figure size 432x288 with 1 Axes>"
      ]
     },
     "metadata": {
      "needs_background": "light"
     },
     "output_type": "display_data"
    }
   ],
   "source": [
    "# Creating plot\n",
    "plt.boxplot(df['children'])\n",
    "\n",
    "plt.show()"
   ]
  },
  {
   "cell_type": "code",
   "execution_count": 17,
   "id": "0e06d24e",
   "metadata": {},
   "outputs": [
    {
     "data": {
      "image/png": "[encoded data removed]",
      "text/plain": [
       "<Figure size 432x288 with 1 Axes>"
      ]
     },
     "metadata": {
      "needs_background": "light"
     },
     "output_type": "display_data"
    }
   ],
   "source": [
    "# Creating plot\n",
    "plt.boxplot(df['charges'])\n",
    "\n",
    "plt.show()"
   ]
  },
  {
   "cell_type": "markdown",
   "id": "984f8e95",
   "metadata": {},
   "source": [
    "* It appears a material amount of outliers exist for both the charges and bmi.\n",
    "\n",
    "\n",
    "* It appears there are many outliers; let's see how many outliers there are."
   ]
  },
  {
   "cell_type": "code",
   "execution_count": 51,
   "id": "560886c9",
   "metadata": {},
   "outputs": [
    {
     "data": {
      "text/plain": [
       "14      39611.75770\n",
       "19      36837.46700\n",
       "23      37701.87680\n",
       "29      38711.00000\n",
       "30      35585.57600\n",
       "           ...     \n",
       "1300    62592.87309\n",
       "1301    46718.16325\n",
       "1303    37829.72420\n",
       "1313    36397.57600\n",
       "1323    43896.37630\n",
       "Name: charges, Length: 139, dtype: float64"
      ]
     },
     "execution_count": 51,
     "metadata": {},
     "output_type": "execute_result"
    }
   ],
   "source": [
    "IQR = df['charges'].quantile(0.75) - df['charges'].quantile(0.25) #Find interquartile range\n",
    "\n",
    "\n",
    "lower_lim = df['charges'].quantile(0.25) - (1.5*IQR) #Find lower limit of range\n",
    "upper_lim = df['charges'].quantile(0.75) + (1.5*IQR) #Find upper limit of range\n",
    "\n",
    "df['charges'][(df['charges'] < lower_lim) | (df['charges'] > upper_lim)] #find outliers of charges column"
   ]
  },
  {
   "cell_type": "markdown",
   "id": "4d390b69",
   "metadata": {},
   "source": [
    "* There are about 140 outliers... we will keep them for the moment, as it would seem there is reason for these high insurance charges."
   ]
  },
  {
   "cell_type": "code",
   "execution_count": 53,
   "id": "426529e1",
   "metadata": {},
   "outputs": [
    {
     "data": {
      "text/html": [
       "<div>\n",
       "<style scoped>\n",
       "    .dataframe tbody tr th:only-of-type {\n",
       "        vertical-align: middle;\n",
       "    }\n",
       "\n",
       "    .dataframe tbody tr th {\n",
       "        vertical-align: top;\n",
       "    }\n",
       "\n",
       "    .dataframe thead th {\n",
       "        text-align: right;\n",
       "    }\n",
       "</style>\n",
       "<table border=\"1\" class=\"dataframe\">\n",
       "  <thead>\n",
       "    <tr style=\"text-align: right;\">\n",
       "      <th></th>\n",
       "      <th>age</th>\n",
       "      <th>bmi</th>\n",
       "      <th>children</th>\n",
       "      <th>charges</th>\n",
       "    </tr>\n",
       "  </thead>\n",
       "  <tbody>\n",
       "    <tr>\n",
       "      <th>age</th>\n",
       "      <td>1.000000</td>\n",
       "      <td>0.109272</td>\n",
       "      <td>0.042469</td>\n",
       "      <td>0.299008</td>\n",
       "    </tr>\n",
       "    <tr>\n",
       "      <th>bmi</th>\n",
       "      <td>0.109272</td>\n",
       "      <td>1.000000</td>\n",
       "      <td>0.012759</td>\n",
       "      <td>0.198341</td>\n",
       "    </tr>\n",
       "    <tr>\n",
       "      <th>children</th>\n",
       "      <td>0.042469</td>\n",
       "      <td>0.012759</td>\n",
       "      <td>1.000000</td>\n",
       "      <td>0.067998</td>\n",
       "    </tr>\n",
       "    <tr>\n",
       "      <th>charges</th>\n",
       "      <td>0.299008</td>\n",
       "      <td>0.198341</td>\n",
       "      <td>0.067998</td>\n",
       "      <td>1.000000</td>\n",
       "    </tr>\n",
       "  </tbody>\n",
       "</table>\n",
       "</div>"
      ],
      "text/plain": [
       "               age       bmi  children   charges\n",
       "age       1.000000  0.109272  0.042469  0.299008\n",
       "bmi       0.109272  1.000000  0.012759  0.198341\n",
       "children  0.042469  0.012759  1.000000  0.067998\n",
       "charges   0.299008  0.198341  0.067998  1.000000"
      ]
     },
     "execution_count": 53,
     "metadata": {},
     "output_type": "execute_result"
    }
   ],
   "source": [
    "df.corr()"
   ]
  },
  {
   "cell_type": "markdown",
   "id": "c942911f",
   "metadata": {},
   "source": [
    "* Still need to make certain columns numeric, but age seems to be the highest correlating factor to what insurance is paid...but let's keep analyzing."
   ]
  },
  {
   "cell_type": "markdown",
   "id": "e47b47ea",
   "metadata": {},
   "source": [
    "#### E. Encoding variables"
   ]
  },
  {
   "cell_type": "markdown",
   "id": "4f61c192",
   "metadata": {},
   "source": [
    "* We need to encode the variables which are currently non-numeric; sex, smoker, region.\n",
    "\n",
    "\n",
    "* None of the variables are ordinal; all are nominal.\n",
    "\n",
    "\n",
    "* Best method of action = one-hot encoding."
   ]
  },
  {
   "cell_type": "code",
   "execution_count": 54,
   "id": "b2cb6231",
   "metadata": {},
   "outputs": [
    {
     "data": {
      "text/html": [
       "<div>\n",
       "<style scoped>\n",
       "    .dataframe tbody tr th:only-of-type {\n",
       "        vertical-align: middle;\n",
       "    }\n",
       "\n",
       "    .dataframe tbody tr th {\n",
       "        vertical-align: top;\n",
       "    }\n",
       "\n",
       "    .dataframe thead th {\n",
       "        text-align: right;\n",
       "    }\n",
       "</style>\n",
       "<table border=\"1\" class=\"dataframe\">\n",
       "  <thead>\n",
       "    <tr style=\"text-align: right;\">\n",
       "      <th></th>\n",
       "      <th>age</th>\n",
       "      <th>bmi</th>\n",
       "      <th>children</th>\n",
       "      <th>charges</th>\n",
       "      <th>sex_female</th>\n",
       "      <th>sex_male</th>\n",
       "      <th>smoker_no</th>\n",
       "      <th>smoker_yes</th>\n",
       "      <th>region_northeast</th>\n",
       "      <th>region_northwest</th>\n",
       "      <th>region_southeast</th>\n",
       "      <th>region_southwest</th>\n",
       "    </tr>\n",
       "  </thead>\n",
       "  <tbody>\n",
       "    <tr>\n",
       "      <th>0</th>\n",
       "      <td>19</td>\n",
       "      <td>27.900</td>\n",
       "      <td>0</td>\n",
       "      <td>16884.92400</td>\n",
       "      <td>1</td>\n",
       "      <td>0</td>\n",
       "      <td>0</td>\n",
       "      <td>1</td>\n",
       "      <td>0</td>\n",
       "      <td>0</td>\n",
       "      <td>0</td>\n",
       "      <td>1</td>\n",
       "    </tr>\n",
       "    <tr>\n",
       "      <th>1</th>\n",
       "      <td>18</td>\n",
       "      <td>33.770</td>\n",
       "      <td>1</td>\n",
       "      <td>1725.55230</td>\n",
       "      <td>0</td>\n",
       "      <td>1</td>\n",
       "      <td>1</td>\n",
       "      <td>0</td>\n",
       "      <td>0</td>\n",
       "      <td>0</td>\n",
       "      <td>1</td>\n",
       "      <td>0</td>\n",
       "    </tr>\n",
       "    <tr>\n",
       "      <th>2</th>\n",
       "      <td>28</td>\n",
       "      <td>33.000</td>\n",
       "      <td>3</td>\n",
       "      <td>4449.46200</td>\n",
       "      <td>0</td>\n",
       "      <td>1</td>\n",
       "      <td>1</td>\n",
       "      <td>0</td>\n",
       "      <td>0</td>\n",
       "      <td>0</td>\n",
       "      <td>1</td>\n",
       "      <td>0</td>\n",
       "    </tr>\n",
       "    <tr>\n",
       "      <th>3</th>\n",
       "      <td>33</td>\n",
       "      <td>22.705</td>\n",
       "      <td>0</td>\n",
       "      <td>21984.47061</td>\n",
       "      <td>0</td>\n",
       "      <td>1</td>\n",
       "      <td>1</td>\n",
       "      <td>0</td>\n",
       "      <td>0</td>\n",
       "      <td>1</td>\n",
       "      <td>0</td>\n",
       "      <td>0</td>\n",
       "    </tr>\n",
       "    <tr>\n",
       "      <th>4</th>\n",
       "      <td>32</td>\n",
       "      <td>28.880</td>\n",
       "      <td>0</td>\n",
       "      <td>3866.85520</td>\n",
       "      <td>0</td>\n",
       "      <td>1</td>\n",
       "      <td>1</td>\n",
       "      <td>0</td>\n",
       "      <td>0</td>\n",
       "      <td>1</td>\n",
       "      <td>0</td>\n",
       "      <td>0</td>\n",
       "    </tr>\n",
       "  </tbody>\n",
       "</table>\n",
       "</div>"
      ],
      "text/plain": [
       "   age     bmi  children      charges  sex_female  sex_male  smoker_no  \\\n",
       "0   19  27.900         0  16884.92400           1         0          0   \n",
       "1   18  33.770         1   1725.55230           0         1          1   \n",
       "2   28  33.000         3   4449.46200           0         1          1   \n",
       "3   33  22.705         0  21984.47061           0         1          1   \n",
       "4   32  28.880         0   3866.85520           0         1          1   \n",
       "\n",
       "   smoker_yes  region_northeast  region_northwest  region_southeast  \\\n",
       "0           1                 0                 0                 0   \n",
       "1           0                 0                 0                 1   \n",
       "2           0                 0                 0                 1   \n",
       "3           0                 0                 1                 0   \n",
       "4           0                 0                 1                 0   \n",
       "\n",
       "   region_southwest  \n",
       "0                 1  \n",
       "1                 0  \n",
       "2                 0  \n",
       "3                 0  \n",
       "4                 0  "
      ]
     },
     "execution_count": 54,
     "metadata": {},
     "output_type": "execute_result"
    }
   ],
   "source": [
    "df = pd.get_dummies(data=df, columns=['sex', 'smoker', 'region'])\n",
    "\n",
    "df.head()"
   ]
  },
  {
   "cell_type": "code",
   "execution_count": 60,
   "id": "216a54be",
   "metadata": {},
   "outputs": [
    {
     "data": {
      "image/png": "[encoded data removed]",
      "text/plain": [
       "<Figure size 1440x1440 with 2 Axes>"
      ]
     },
     "metadata": {
      "needs_background": "light"
     },
     "output_type": "display_data"
    }
   ],
   "source": [
    "import seaborn as sns\n",
    "\n",
    "plt.figure(figsize = (20, 20))\n",
    "sns.heatmap(df.corr(), \n",
    "            annot = True, \n",
    "            cmap = \"Blues\",\n",
    "            fmt = \".2f\",\n",
    "            vmin = -1.00, vmax = 1.00)\n",
    "plt.show()"
   ]
  },
  {
   "cell_type": "markdown",
   "id": "31f61723",
   "metadata": {},
   "source": [
    "#### Preliminary notes after one-hot encoding the categorical variables---\n",
    "\n",
    "\n",
    "* Being a smoker has a high correlation to high charges; this is expected given the data is imbalanced towards smokers, anyways.\n",
    "    \n",
    "    \n",
    "* Age has a material correlation with charges, as is common sense; bmi also seems to have somewhat of a factor. \n",
    "    \n",
    "    \n",
    "* No other variable had a strong correlation with charges.\n",
    "    \n",
    "    \n",
    "* The highest correlations, outside of being a smoker to your charges, is related to different regions. Do not think this is at a level of creating multicollinearity, but let us look..."
   ]
  },
  {
   "cell_type": "code",
   "execution_count": 59,
   "id": "d77e9239",
   "metadata": {},
   "outputs": [
    {
     "name": "stdout",
     "output_type": "stream",
     "text": [
      "            feature       VIF\n",
      "0  region_northeast  0.209877\n",
      "1  region_northwest  0.212308\n",
      "2  region_southeast  0.296703\n",
      "3  region_southwest  0.212308\n"
     ]
    }
   ],
   "source": [
    "from statsmodels.stats.outliers_influence import variance_inflation_factor\n",
    "\n",
    "# the independent variables set\n",
    "X = df[['region_northeast', 'region_northwest', 'region_southeast', 'region_southwest']]\n",
    "\n",
    "# VIF dataframe\n",
    "vif_data = pd.DataFrame()\n",
    "vif_data[\"feature\"] = X.columns\n",
    "\n",
    "# calculating VIF for each feature\n",
    "vif_data[\"VIF\"] = [variance_inflation_factor(X.values, i)\n",
    "                          for i in range(len(X.columns))]\n",
    "  \n",
    "print(vif_data)"
   ]
  },
  {
   "cell_type": "markdown",
   "id": "efc47dca",
   "metadata": {},
   "source": [
    "* The VIFs for the regions are very small; we can assume we do not have to worry about multicollinearity.\n",
    "\n",
    "\n",
    "* Let's view the similarity in columns on a line graph."
   ]
  },
  {
   "cell_type": "code",
   "execution_count": 66,
   "id": "e0fe4f63",
   "metadata": {},
   "outputs": [
    {
     "data": {
      "image/png": "[encoded data removed]",
      "text/plain": [
       "<Figure size 432x288 with 1 Axes>"
      ]
     },
     "metadata": {
      "needs_background": "light"
     },
     "output_type": "display_data"
    }
   ],
   "source": [
    "'''line_1 = df['smoker_yes']\n",
    "line_2 = df['charges']\n",
    "\n",
    "fig, ax = plt.subplots()\n",
    "\n",
    "ax.plot(line_2, color = 'green', label = \"Charges\")\n",
    "\n",
    "ax2 = ax.twinx()\n",
    "\n",
    "ax2.plot(line_1, color = 'red', label = 'Smoker?')\n",
    "ax2.set_ylim(0, 1)\n",
    "ax.legend(loc = 'upper left')\n",
    "plt.show()'''\n",
    "\n",
    "plt.hist(df['charges'])\n",
    "plt.show()"
   ]
  },
  {
   "cell_type": "code",
   "execution_count": 89,
   "id": "cef6fd27",
   "metadata": {},
   "outputs": [
    {
     "data": {
      "image/png": "[encoded data removed]",
      "text/plain": [
       "<Figure size 432x288 with 1 Axes>"
      ]
     },
     "metadata": {
      "needs_background": "light"
     },
     "output_type": "display_data"
    },
    {
     "name": "stdout",
     "output_type": "stream",
     "text": [
      "136\n",
      "0.49635036496350365\n"
     ]
    }
   ],
   "source": [
    "#lst = [df['charges'] for i in range(df.shape[0]) if df.iloc[i]['smoker_yes'] == 1]\n",
    "\n",
    "lst = []\n",
    "for i in range(df.shape[0]):\n",
    "    if df.iloc[i]['smoker_yes'] == 1:\n",
    "        lst.append(df.iloc[i]['charges'])\n",
    "#print(lst)\n",
    "\n",
    "plt.hist(lst)\n",
    "plt.show()\n",
    "\n",
    "#lst = list(lst)\n",
    "count = 0\n",
    "for i in lst:\n",
    "    if i > upper_lim:\n",
    "        #print(i)\n",
    "        count += 1\n",
    "print(count)\n",
    "print(count/len(lst))"
   ]
  },
  {
   "cell_type": "markdown",
   "id": "3b24372b",
   "metadata": {},
   "source": [
    "* Interestingly, only 10% of the total dataset are outliers, meaning that charges for only 10% of the entire dataset have a charge history greater than approximately 34,500 dollars.\n",
    "\n",
    "\n",
    "* When you analyze smokers as a subset of the dataset, however, approximately 50% of smokers analyzed were charged above that 34,500! Additionally, it appears that nearly all of the outliers (136 out of 139) were related to smokers! This data explains the significant correlation between smokers and insurance charges. You can see in the histogram directly above the difference in insurance charge distribution between the entire dataset, and a dataset of the smoker subset.\n",
    "\n",
    "\n",
    "* Interestingly, there is little correlation between smoking and age or smoking and bmi...meaning that is likely not why age or bmi lead to higher insurance charges.\n",
    "\n",
    "\n",
    "* My question: do the smokers account for all 60,000+ insurance charges?"
   ]
  },
  {
   "cell_type": "code",
   "execution_count": 96,
   "id": "54bc928c",
   "metadata": {},
   "outputs": [
    {
     "name": "stdout",
     "output_type": "stream",
     "text": [
      "[63770.42801, 60021.39897, 62592.87309]\n",
      "[63770.42801, 60021.39897, 62592.87309]\n"
     ]
    }
   ],
   "source": [
    "smoker_subset_count = []\n",
    "whole_dataset_count = []\n",
    "for i in range(df.shape[0]):\n",
    "    if df.iloc[i]['smoker_yes'] == 1 and df.iloc[i]['charges'] > 60000:\n",
    "        smoker_subset_count.append(df.iloc[i]['charges'])\n",
    "        whole_dataset_count.append(df.iloc[i]['charges'])\n",
    "    elif df.iloc[i]['charges'] > 60000:\n",
    "        whole_dataset_count.append(df.iloc[i]['charges'])\n",
    "    else:\n",
    "        continue\n",
    "\n",
    "print(smoker_subset_count)\n",
    "print(whole_dataset_count)"
   ]
  },
  {
   "cell_type": "markdown",
   "id": "de06d0d1",
   "metadata": {},
   "source": [
    "* Above confirms the smokers account for all of the charges above 60,000, even with the data including so little smokers on an absolute basis. "
   ]
  },
  {
   "cell_type": "markdown",
   "id": "c978338d",
   "metadata": {},
   "source": [
    "## Conclusion"
   ]
  },
  {
   "cell_type": "markdown",
   "id": "49d86644",
   "metadata": {},
   "source": [
    "* We can assume that smoking, while causation does not mean correlation, is a strong reason for a lot of the higher insurance charges in the dataset.\n",
    "\n",
    "\n",
    "* Age and bmi shows material correlation with insurance charges.\n",
    "\n",
    "\n",
    "* Gender, amount of children, and region seem to have very little effect on insurance charges."
   ]
  }
 ],
 "metadata": {
  "kernelspec": {
   "display_name": "Python 3 (ipykernel)",
   "language": "python",
   "name": "python3"
  },
  "language_info": {
   "codemirror_mode": {
    "name": "ipython",
    "version": 3
   },
   "file_extension": ".py",
   "mimetype": "text/x-python",
   "name": "python",
   "nbconvert_exporter": "python",
   "pygments_lexer": "ipython3",
   "version": "3.7.8"
  }
 },
 "nbformat": 4,
 "nbformat_minor": 5
}
